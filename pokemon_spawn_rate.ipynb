{
  "nbformat": 4,
  "nbformat_minor": 0,
  "metadata": {
    "colab": {
      "name": "pokemon-spawn-rate.ipynb",
      "provenance": [],
      "toc_visible": true
    },
    "kernelspec": {
      "name": "python3",
      "display_name": "Python 3"
    },
    "accelerator": "GPU"
  },
  "cells": [
    {
      "cell_type": "code",
      "metadata": {
        "id": "5SyFFsd-1WeO",
        "outputId": "27ba27f9-a4cf-4c21-e3c6-1c28589c20aa",
        "colab": {
          "base_uri": "https://localhost:8080/",
          "height": 33
        }
      },
      "source": [
        "from google.colab import drive\n",
        "drive.mount('/content/drive', force_remount=True)"
      ],
      "execution_count": null,
      "outputs": [
        {
          "output_type": "stream",
          "text": [
            "Mounted at /content/drive\n"
          ],
          "name": "stdout"
        }
      ]
    },
    {
      "cell_type": "code",
      "metadata": {
        "id": "7B1bEbRf1-iT",
        "outputId": "213d2620-7c14-46c0-9ce6-b63f7d4ff6b7",
        "colab": {
          "base_uri": "https://localhost:8080/",
          "height": 33
        }
      },
      "source": [
        "%cd /content/drive/My Drive/pokemon/"
      ],
      "execution_count": null,
      "outputs": [
        {
          "output_type": "stream",
          "text": [
            "/content/drive/My Drive/pokemon\n"
          ],
          "name": "stdout"
        }
      ]
    },
    {
      "cell_type": "code",
      "metadata": {
        "id": "wXluDgze7271",
        "outputId": "59d65ba3-ae9f-4b84-cfec-b6190107a37e",
        "colab": {
          "base_uri": "https://localhost:8080/",
          "height": 187
        }
      },
      "source": [
        "!pip install ipython-autotime\n",
        "%load_ext autotime"
      ],
      "execution_count": null,
      "outputs": [
        {
          "output_type": "stream",
          "text": [
            "Collecting ipython-autotime\n",
            "  Downloading https://files.pythonhosted.org/packages/e6/f9/0626bbdb322e3a078d968e87e3b01341e7890544de891d0cb613641220e6/ipython-autotime-0.1.tar.bz2\n",
            "Building wheels for collected packages: ipython-autotime\n",
            "  Building wheel for ipython-autotime (setup.py) ... \u001b[?25l\u001b[?25hdone\n",
            "  Created wheel for ipython-autotime: filename=ipython_autotime-0.1-cp36-none-any.whl size=1831 sha256=24fdb215b30fcf96014fbd386f55572ed6fd03c86501c05c9e1a54eab9dda466\n",
            "  Stored in directory: /root/.cache/pip/wheels/d2/df/81/2db1e54bc91002cec40334629bc39cfa86dff540b304ebcd6e\n",
            "Successfully built ipython-autotime\n",
            "Installing collected packages: ipython-autotime\n",
            "Successfully installed ipython-autotime-0.1\n"
          ],
          "name": "stdout"
        }
      ]
    },
    {
      "cell_type": "code",
      "metadata": {
        "id": "LboHIY2l2bgy",
        "outputId": "5e53473b-923a-493f-ec66-d1718e965c21",
        "colab": {
          "base_uri": "https://localhost:8080/",
          "height": 87
        }
      },
      "source": [
        "#Import lib\n",
        "import pandas as pd\n",
        "import numpy as np\n",
        "import matplotlib.pyplot as plt\n",
        "import seaborn as sns\n",
        "\n",
        "from sklearn.model_selection import train_test_split\n",
        "from keras.utils.np_utils import to_categorical \n",
        "\n",
        "from keras.models import Sequential, Model\n",
        "from keras.layers import Dense, Dropout, Flatten, Conv2D, MaxPool2D, BatchNormalization, Input,GlobalAveragePooling2D, Lambda\n",
        "from keras.layers.experimental.preprocessing import Resizing\n",
        "from keras.optimizers import RMSprop, Adam\n",
        "from keras.preprocessing.image import ImageDataGenerator\n",
        "from keras.callbacks import ReduceLROnPlateau, ModelCheckpoint\n",
        "import keras.backend as k"
      ],
      "execution_count": null,
      "outputs": [
        {
          "output_type": "stream",
          "text": [
            "/usr/local/lib/python3.6/dist-packages/statsmodels/tools/_testing.py:19: FutureWarning: pandas.util.testing is deprecated. Use the functions in the public API at pandas.testing instead.\n",
            "  import pandas.util.testing as tm\n"
          ],
          "name": "stderr"
        },
        {
          "output_type": "stream",
          "text": [
            "time: 1.75 s\n"
          ],
          "name": "stdout"
        }
      ]
    },
    {
      "cell_type": "code",
      "metadata": {
        "id": "Ha4N0qVw6TZe",
        "outputId": "cab400a5-41a1-4d9e-b155-2d44e2035913",
        "colab": {
          "base_uri": "https://localhost:8080/",
          "height": 33
        }
      },
      "source": [
        "name_dict={1: 'Bulbasaur', 2: 'Ivysaur', 3: 'Venusaur', 4: 'Charmander', 5: 'Charmeleon', 6: 'Charizard', 7: 'Squirtle', 8: \n",
        "          'Wartortle', 9: 'Blastoise', 10: 'Caterpie', 11: 'Metapod', 12: 'Butterfree', 13: 'Weedle', 14: 'Kakuna', \n",
        "          15: 'Beedrill', 16: 'Pidgey', 17: 'Pidgeotto', 18: 'Pidgeot', 19: 'Rattata', 20: 'Raticate', 21: 'Spearow',\n",
        "          22: 'Fearow', 23: 'Ekans', 24: 'Arbok', 25: 'Pikachu', 26: 'Raichu', 27: 'Sandshrew', 28: 'Sandslash', \n",
        "          29: 'Nidoran F', 30: 'Nidorina', 31: 'Nidoqueen',32: 'Nidoran M', 33: 'Nidorino', 34: 'Nidoking', 35: 'Clefairy',\n",
        "          36: 'Clefable', 37: 'Vulpix', 38: 'Ninetales', 39: 'Jigglypuff', 40: 'Wigglytuff', 41: 'Zubat', 42: 'Golbat', \n",
        "          43: 'Oddish', 44: 'Gloom', 45: 'Vileplume', 46: 'Paras', 47: 'Parasect', 48: 'Venonat', 49: 'Venomoth',\n",
        "          50: 'Diglett', 51: 'Dugtrio', 52: 'Meowth', 53: 'Persian', 54: 'Psyduck',55: 'Golduck', 56: 'Mankey', \n",
        "          57: 'Primeape', 58: 'Growlithe', 59: 'Arcanine', 60: 'Poliwag', 61: 'Poliwhirl', 62: 'Poliwrath',\n",
        "          63: 'Abra', 64: 'Kadabra', 65: 'Alakazam', 66: 'Machop', 67: 'Machoke', 68: 'Machamp', 69: 'Bellsprout', \n",
        "          70: 'Weepinbell', 71: 'Victreebel', 72: 'Tentacool', 73: 'Tentacruel', 74: 'Geodude', 75: 'Graveler',\n",
        "          76: 'Golem', 77: 'Ponyta', 78: 'Rapidash', 79: 'Slowpoke', 80: 'Slowbro', 81: 'Magnemite', 82: 'Magneton',\n",
        "          83: \"Farfetch'd\", 84: 'Doduo', 85: 'Dodrio', 86: 'Seel', 87: 'Dewgong', 88: 'Grimer', 89: 'Muk', \n",
        "          90: 'Shellder', 91: 'Cloyster', 92: 'Gastly', 93: 'Haunter', 94: 'Gengar', 95: 'Onix', 96: 'Drowzee',\n",
        "          97: 'Hypno', 98: 'Krabby', 99: 'Kingler', 100: 'Voltorb', 101: 'Electrode', 102: 'Exeggcute', 103: 'Exeggutor', \n",
        "          104: 'Cubone', 105: 'Marowak', 106: 'Hitmonlee', 107: 'Hitmonchan', 108: 'Lickitung', 109: 'Koffing',\n",
        "          110: 'Weezing', 111: 'Rhyhorn', 112: 'Rhydon', 113: 'Chansey', 114: 'Tangela', 115: 'Kangaskhan', 116: 'Horsea', \n",
        "          117: 'Seadra', 118: 'Goldeen', 119: 'Seaking', 120: 'Staryu', 121: 'Starmie', 122: 'Mr. Mime', 123: 'Scyther', \n",
        "          124: 'Jynx', 125: 'Electabuzz', 126: 'Magmar', 127: 'Pinsir', 128: 'Tauros', 129: 'Magikarp', 130: 'Gyarados', \n",
        "          131: 'Lapras', 132: 'Ditto', 133: 'Eevee', 134: 'Vaporeon', 135: 'Jolteon', 136: 'Flareon', 137: 'Porygon', \n",
        "          138: 'Omanyte', 139: 'Omastar', 140: 'Kabuto', 141: 'Kabutops', 142: 'Aerodactyl', 143: 'Snorlax', 144: 'Articuno',\n",
        "          145: 'Zapdos', 146: 'Moltres', 147: 'Dratini', 148: 'Dragonair', 149: 'Dragonite', 150: 'Mewtwo', 'Bulbasaur': 1, 'Ivysaur': 2, 'Venusaur': 3, 'Charmander': 4, 'Charmeleon': 5, 'Charizard': 6, 'Squirtle': 7, 'Wartortle': 8, 'Blastoise': 9, 'Caterpie': 10, 'Metapod': 11, 'Butterfree': 12, 'Weedle': 13, 'Kakuna': 14, 'Beedrill': 15, 'Pidgey': 16, 'Pidgeotto': 17, 'Pidgeot': 18, 'Rattata': 19, 'Raticate': 20, 'Spearow': 21, 'Fearow': 22, 'Ekans': 23, 'Arbok': 24, 'Pikachu': 25, 'Raichu': 26, 'Sandshrew': 27, 'Sandslash': 28, 'Nidoran F': 29, 'Nidorina': 30, 'Nidoqueen': 31, 'Nidoran M': 32, 'Nidorino': 33, 'Nidoking': 34, 'Clefairy': 35, 'Clefable': 36, 'Vulpix': 37, 'Ninetales': 38, 'Jigglypuff': 39, 'Wigglytuff': 40, 'Zubat': 41, 'Golbat': 42, 'Oddish': 43, 'Gloom': 44, 'Vileplume': 45, 'Paras': 46, 'Parasect': 47, 'Venonat': 48, 'Venomoth': 49, 'Diglett': 50, 'Dugtrio': 51, 'Meowth': 52, 'Persian': 53, 'Psyduck': 54, 'Golduck': 55, 'Mankey': 56, 'Primeape': 57, 'Growlithe': 58, 'Arcanine': 59, 'Poliwag': 60, 'Poliwhirl': 61, 'Poliwrath': 62, 'Abra': 63, 'Kadabra': 64, 'Alakazam': 65, 'Machop': 66, 'Machoke': 67, 'Machamp': 68, 'Bellsprout': 69, 'Weepinbell': 70, 'Victreebel': 71, 'Tentacool': 72, 'Tentacruel': 73, 'Geodude': 74, 'Graveler': 75, 'Golem': 76, 'Ponyta': 77, 'Rapidash': 78, 'Slowpoke': 79, 'Slowbro': 80, 'Magnemite': 81, 'Magneton': 82, 'Farfetch\\'d': 83, 'Doduo': 84, 'Dodrio': 85, 'Seel': 86, 'Dewgong': 87, 'Grimer': 88, 'Muk': 89, 'Shellder': 90, 'Cloyster': 91, 'Gastly': 92, 'Haunter': 93, 'Gengar': 94, 'Onix': 95, 'Drowzee': 96, 'Hypno': 97, 'Krabby': 98, 'Kingler': 99, 'Voltorb': 100, 'Electrode': 101, 'Exeggcute': 102, 'Exeggutor': 103, 'Cubone': 104, 'Marowak': 105, 'Hitmonlee': 106, 'Hitmonchan': 107, 'Lickitung': 108, 'Koffing': 109, 'Weezing': 110, 'Rhyhorn': 111, 'Rhydon': 112, 'Chansey': 113, 'Tangela': 114, 'Kangaskhan': 115, 'Horsea': 116, 'Seadra': 117, 'Goldeen': 118, 'Seaking': 119, 'Staryu': 120, 'Starmie': 121, 'Mr. Mime': 122, 'Scyther': 123, 'Jynx': 124, 'Electabuzz': 125, 'Magmar': 126, 'Pinsir': 127, 'Tauros': 128, 'Magikarp': 129, 'Gyarados': 130, 'Lapras': 131, 'Ditto': 132, 'Eevee': 133, 'Vaporeon': 134, 'Jolteon': 135, 'Flareon': 136, 'Porygon': 137, 'Omanyte': 138, 'Omastar': 139, 'Kabuto': 140, 'Kabutops': 141, 'Aerodactyl': 142, 'Snorlax': 143, 'Articuno': 144, 'Zapdos': 145, 'Moltres': 146, 'Dratini': 147, 'Dragonair': 148, 'Dragonite': 149, 'Mewtwo': 150}"
      ],
      "execution_count": null,
      "outputs": [
        {
          "output_type": "stream",
          "text": [
            "time: 29 ms\n"
          ],
          "name": "stdout"
        }
      ]
    },
    {
      "cell_type": "code",
      "metadata": {
        "id": "323t_q6e2vpp",
        "outputId": "2c863ed5-2eac-4c38-fc04-59c60c6cf2a9",
        "colab": {
          "base_uri": "https://localhost:8080/",
          "height": 266
        }
      },
      "source": [
        "original_df = pd.read_csv('300k.csv')\n",
        "df = original_df[['pokemonId','latitude','longitude']]\n",
        "df.head()"
      ],
      "execution_count": null,
      "outputs": [
        {
          "output_type": "stream",
          "text": [
            "/usr/local/lib/python3.6/dist-packages/IPython/core/interactiveshell.py:2718: DtypeWarning: Columns (49) have mixed types.Specify dtype option on import or set low_memory=False.\n",
            "  interactivity=interactivity, compiler=compiler, result=result)\n"
          ],
          "name": "stderr"
        },
        {
          "output_type": "execute_result",
          "data": {
            "text/html": [
              "<div>\n",
              "<style scoped>\n",
              "    .dataframe tbody tr th:only-of-type {\n",
              "        vertical-align: middle;\n",
              "    }\n",
              "\n",
              "    .dataframe tbody tr th {\n",
              "        vertical-align: top;\n",
              "    }\n",
              "\n",
              "    .dataframe thead th {\n",
              "        text-align: right;\n",
              "    }\n",
              "</style>\n",
              "<table border=\"1\" class=\"dataframe\">\n",
              "  <thead>\n",
              "    <tr style=\"text-align: right;\">\n",
              "      <th></th>\n",
              "      <th>pokemonId</th>\n",
              "      <th>latitude</th>\n",
              "      <th>longitude</th>\n",
              "    </tr>\n",
              "  </thead>\n",
              "  <tbody>\n",
              "    <tr>\n",
              "      <th>0</th>\n",
              "      <td>16</td>\n",
              "      <td>20.525745</td>\n",
              "      <td>-97.460829</td>\n",
              "    </tr>\n",
              "    <tr>\n",
              "      <th>1</th>\n",
              "      <td>133</td>\n",
              "      <td>20.523695</td>\n",
              "      <td>-97.461167</td>\n",
              "    </tr>\n",
              "    <tr>\n",
              "      <th>2</th>\n",
              "      <td>16</td>\n",
              "      <td>38.903590</td>\n",
              "      <td>-77.199780</td>\n",
              "    </tr>\n",
              "    <tr>\n",
              "      <th>3</th>\n",
              "      <td>13</td>\n",
              "      <td>47.665903</td>\n",
              "      <td>-122.312561</td>\n",
              "    </tr>\n",
              "    <tr>\n",
              "      <th>4</th>\n",
              "      <td>133</td>\n",
              "      <td>47.666454</td>\n",
              "      <td>-122.311628</td>\n",
              "    </tr>\n",
              "  </tbody>\n",
              "</table>\n",
              "</div>"
            ],
            "text/plain": [
              "   pokemonId   latitude   longitude\n",
              "0         16  20.525745  -97.460829\n",
              "1        133  20.523695  -97.461167\n",
              "2         16  38.903590  -77.199780\n",
              "3         13  47.665903 -122.312561\n",
              "4        133  47.666454 -122.311628"
            ]
          },
          "metadata": {
            "tags": []
          },
          "execution_count": 6
        },
        {
          "output_type": "stream",
          "text": [
            "time: 8.83 s\n"
          ],
          "name": "stdout"
        }
      ]
    },
    {
      "cell_type": "code",
      "metadata": {
        "id": "CdX9uori9rOQ",
        "outputId": "eb54bbf4-06e0-47a5-a3d5-0e0c5765baa3",
        "colab": {
          "base_uri": "https://localhost:8080/",
          "height": 33
        }
      },
      "source": [
        "# Functions\n",
        "def get_only(df, names):\n",
        "  ids = []\n",
        "  for name in names:\n",
        "    ids.append(name_dict[name])\n",
        "  df_temp = df[df.pokemonId.isin(ids)]\n",
        "  df_temp.reset_index(drop=True, inplace=True)\n",
        "  return df_temp"
      ],
      "execution_count": null,
      "outputs": [
        {
          "output_type": "stream",
          "text": [
            "time: 3.24 ms\n"
          ],
          "name": "stdout"
        }
      ]
    },
    {
      "cell_type": "markdown",
      "metadata": {
        "id": "h8sYdRj8zb3t"
      },
      "source": [
        "In this task, one will consider only the spawn rate of 3 pokemons. 'Diglett', 'Seel', and 'Tauros'"
      ]
    },
    {
      "cell_type": "code",
      "metadata": {
        "id": "3twlaX5V582p",
        "outputId": "e64c69f8-0dc2-4737-f081-5cba7ef4ccee",
        "colab": {
          "base_uri": "https://localhost:8080/",
          "height": 263
        }
      },
      "source": [
        "names = ['Diglett','Seel','Tauros'] # index 0 1 2\n",
        "df = get_only(df,names)\n",
        "\n",
        "data_dict = {}\n",
        "for index, name in enumerate(names):\n",
        "  print(name)\n",
        "  temp = name_dict[name]\n",
        "  data_dict[temp] = index\n",
        "df['pokemonName'] = df['pokemonId'].map(name_dict)\n",
        "df['pokemonId'] = df['pokemonId'].map(data_dict)\n",
        "\n",
        "df.head()"
      ],
      "execution_count": null,
      "outputs": [
        {
          "output_type": "stream",
          "text": [
            "Diglett\n",
            "Seel\n",
            "Tauros\n"
          ],
          "name": "stdout"
        },
        {
          "output_type": "execute_result",
          "data": {
            "text/html": [
              "<div>\n",
              "<style scoped>\n",
              "    .dataframe tbody tr th:only-of-type {\n",
              "        vertical-align: middle;\n",
              "    }\n",
              "\n",
              "    .dataframe tbody tr th {\n",
              "        vertical-align: top;\n",
              "    }\n",
              "\n",
              "    .dataframe thead th {\n",
              "        text-align: right;\n",
              "    }\n",
              "</style>\n",
              "<table border=\"1\" class=\"dataframe\">\n",
              "  <thead>\n",
              "    <tr style=\"text-align: right;\">\n",
              "      <th></th>\n",
              "      <th>pokemonId</th>\n",
              "      <th>latitude</th>\n",
              "      <th>longitude</th>\n",
              "      <th>pokemonName</th>\n",
              "    </tr>\n",
              "  </thead>\n",
              "  <tbody>\n",
              "    <tr>\n",
              "      <th>0</th>\n",
              "      <td>0</td>\n",
              "      <td>49.146199</td>\n",
              "      <td>-122.638105</td>\n",
              "      <td>Diglett</td>\n",
              "    </tr>\n",
              "    <tr>\n",
              "      <th>1</th>\n",
              "      <td>2</td>\n",
              "      <td>44.476769</td>\n",
              "      <td>-73.212749</td>\n",
              "      <td>Tauros</td>\n",
              "    </tr>\n",
              "    <tr>\n",
              "      <th>2</th>\n",
              "      <td>2</td>\n",
              "      <td>39.767486</td>\n",
              "      <td>-86.161068</td>\n",
              "      <td>Tauros</td>\n",
              "    </tr>\n",
              "    <tr>\n",
              "      <th>3</th>\n",
              "      <td>1</td>\n",
              "      <td>49.999197</td>\n",
              "      <td>9.066973</td>\n",
              "      <td>Seel</td>\n",
              "    </tr>\n",
              "    <tr>\n",
              "      <th>4</th>\n",
              "      <td>0</td>\n",
              "      <td>25.724382</td>\n",
              "      <td>-100.379311</td>\n",
              "      <td>Diglett</td>\n",
              "    </tr>\n",
              "  </tbody>\n",
              "</table>\n",
              "</div>"
            ],
            "text/plain": [
              "   pokemonId   latitude   longitude pokemonName\n",
              "0          0  49.146199 -122.638105     Diglett\n",
              "1          2  44.476769  -73.212749      Tauros\n",
              "2          2  39.767486  -86.161068      Tauros\n",
              "3          1  49.999197    9.066973        Seel\n",
              "4          0  25.724382 -100.379311     Diglett"
            ]
          },
          "metadata": {
            "tags": []
          },
          "execution_count": 8
        },
        {
          "output_type": "stream",
          "text": [
            "time: 32.4 ms\n"
          ],
          "name": "stdout"
        }
      ]
    },
    {
      "cell_type": "code",
      "metadata": {
        "id": "aFT6yhL2BAJw",
        "outputId": "036c9435-f551-4c02-97d5-99bfa4e730c7",
        "colab": {
          "base_uri": "https://localhost:8080/",
          "height": 402
        }
      },
      "source": [
        "sns.relplot(x=\"latitude\", y=\"longitude\", hue=\"pokemonName\",kind=\"scatter\",palette=\"tab10\", alpha = 0.4, data = df)"
      ],
      "execution_count": null,
      "outputs": [
        {
          "output_type": "execute_result",
          "data": {
            "text/plain": [
              "<seaborn.axisgrid.FacetGrid at 0x7f806fbbb470>"
            ]
          },
          "metadata": {
            "tags": []
          },
          "execution_count": 9
        },
        {
          "output_type": "display_data",
          "data": {
            "image/png": "[encoded data removed]",
            "text/plain": [
              "<Figure size 471.125x360 with 1 Axes>"
            ]
          },
          "metadata": {
            "tags": [],
            "needs_background": "light"
          }
        },
        {
          "output_type": "stream",
          "text": [
            "time: 508 ms\n"
          ],
          "name": "stdout"
        }
      ]
    },
    {
      "cell_type": "code",
      "metadata": {
        "id": "jRbk9OcZD-R3",
        "outputId": "fbc6879e-318b-40aa-9dae-15769ccd006c",
        "colab": {
          "base_uri": "https://localhost:8080/",
          "height": 1000
        }
      },
      "source": [
        "fig, axes =plt.subplots(3,figsize=(10,20))\n",
        "\n",
        "for index, name in enumerate(names):\n",
        "  temp = df[df.pokemonName == name]\n",
        "  axes[index].set_title('')\n",
        "  axes[index].scatter(x=temp.latitude,y=temp.longitude,alpha=0.4)\n",
        "\n",
        "plt.show()"
      ],
      "execution_count": null,
      "outputs": [
        {
          "output_type": "display_data",
          "data": {
            "image/png": "[encoded data removed]",
            "text/plain": [
              "<Figure size 720x1440 with 3 Axes>"
            ]
          },
          "metadata": {
            "tags": [],
            "needs_background": "light"
          }
        },
        {
          "output_type": "stream",
          "text": [
            "time: 384 ms\n"
          ],
          "name": "stdout"
        }
      ]
    },
    {
      "cell_type": "code",
      "metadata": {
        "id": "bh-nZoHgH7b-",
        "outputId": "94270d31-7030-4e6d-bf69-f2f04479cb2e",
        "colab": {
          "base_uri": "https://localhost:8080/",
          "height": 251
        }
      },
      "source": [
        "y = df['pokemonId']\n",
        "print(y[0:4])\n",
        "y = to_categorical(y, num_classes = 3)\n",
        "print(y[0:4])\n",
        "X = df[['latitude','longitude']].to_numpy()\n",
        "print(X[0:4,:])"
      ],
      "execution_count": null,
      "outputs": [
        {
          "output_type": "stream",
          "text": [
            "0    0\n",
            "1    2\n",
            "2    2\n",
            "3    1\n",
            "Name: pokemonId, dtype: int64\n",
            "[[1. 0. 0.]\n",
            " [0. 0. 1.]\n",
            " [0. 0. 1.]\n",
            " [0. 1. 0.]]\n",
            "[[  49.146199 -122.638105]\n",
            " [  44.476769  -73.212749]\n",
            " [  39.767486  -86.161068]\n",
            " [  49.999197    9.066973]]\n",
            "time: 8.95 ms\n"
          ],
          "name": "stdout"
        }
      ]
    },
    {
      "cell_type": "code",
      "metadata": {
        "id": "QgAxyDMNLmTA",
        "outputId": "daff2e37-1b1f-43fa-9f31-815558729621",
        "colab": {
          "base_uri": "https://localhost:8080/",
          "height": 33
        }
      },
      "source": [
        "max_lat = max(abs(X[:,0]))\n",
        "max_long = max(abs(X[:,1]))\n",
        "\n",
        "X[:,0] = X[:,0]/max_lat\n",
        "X[:,1] = X[:,1]/max_long"
      ],
      "execution_count": null,
      "outputs": [
        {
          "output_type": "stream",
          "text": [
            "time: 4.36 ms\n"
          ],
          "name": "stdout"
        }
      ]
    },
    {
      "cell_type": "code",
      "metadata": {
        "id": "KF6fBN-4NFwb",
        "outputId": "a0e61060-4c60-4d81-c405-6a08725b4819",
        "colab": {
          "base_uri": "https://localhost:8080/",
          "height": 33
        }
      },
      "source": [
        "# split 0.7 0.1 0.2 train val test\n",
        "X_train, X_test, y_train, y_test = train_test_split(X, y, test_size=0.2, random_state=44)\n",
        "\n",
        "X_train, X_val, y_train, y_val = train_test_split(X_train, y_train, test_size=0.1, random_state=44) "
      ],
      "execution_count": null,
      "outputs": [
        {
          "output_type": "stream",
          "text": [
            "time: 4.62 ms\n"
          ],
          "name": "stdout"
        }
      ]
    },
    {
      "cell_type": "code",
      "metadata": {
        "id": "9_kYHUkEOl6S",
        "outputId": "d7fcc8b4-9c23-4eab-a74c-44c727405851",
        "colab": {
          "base_uri": "https://localhost:8080/",
          "height": 535
        }
      },
      "source": [
        "#Model 1\n",
        "\n",
        "model_1 = Sequential()\n",
        "\n",
        "\n",
        "model_1.add(Dense(20,activation ='relu',input_shape = (1,2)))\n",
        "model_1.add(Dense(30, activation = \"relu\"))\n",
        "# model_1.add(Dropout(0.5))\n",
        "#\n",
        "model_1.add(Dense(100, activation = \"relu\"))\n",
        "model_1.add(Dense(100, activation = \"relu\"))\n",
        "model_1.add(Dense(100, activation = \"relu\"))\n",
        "#\n",
        "model_1.add(Dense(30, activation = \"relu\"))\n",
        "# model_1.add(Dropout(0.5))\n",
        "model_1.add(Dense(20, activation = \"relu\"))\n",
        "model_1.add(Dropout(0.5))\n",
        "model_1.add(Dense(10, activation = \"relu\"))\n",
        "model_1.add(Dropout(0.5))\n",
        "model_1.add(Dense(3, activation = \"softmax\"))\n",
        "\n",
        "optimizer = Adam(learning_rate=0.001)\n",
        "\n",
        "model_1.compile(optimizer = optimizer , loss = \"categorical_crossentropy\", metrics=[\"accuracy\"])\n",
        "\n",
        "model_1.summary()"
      ],
      "execution_count": null,
      "outputs": [
        {
          "output_type": "stream",
          "text": [
            "Model: \"sequential_11\"\n",
            "_________________________________________________________________\n",
            "Layer (type)                 Output Shape              Param #   \n",
            "=================================================================\n",
            "dense_80 (Dense)             (None, 1, 20)             60        \n",
            "_________________________________________________________________\n",
            "dense_81 (Dense)             (None, 1, 30)             630       \n",
            "_________________________________________________________________\n",
            "dense_82 (Dense)             (None, 1, 100)            3100      \n",
            "_________________________________________________________________\n",
            "dense_83 (Dense)             (None, 1, 100)            10100     \n",
            "_________________________________________________________________\n",
            "dense_84 (Dense)             (None, 1, 100)            10100     \n",
            "_________________________________________________________________\n",
            "dense_85 (Dense)             (None, 1, 30)             3030      \n",
            "_________________________________________________________________\n",
            "dense_86 (Dense)             (None, 1, 20)             620       \n",
            "_________________________________________________________________\n",
            "dropout_28 (Dropout)         (None, 1, 20)             0         \n",
            "_________________________________________________________________\n",
            "dense_87 (Dense)             (None, 1, 10)             210       \n",
            "_________________________________________________________________\n",
            "dropout_29 (Dropout)         (None, 1, 10)             0         \n",
            "_________________________________________________________________\n",
            "dense_88 (Dense)             (None, 1, 3)              33        \n",
            "=================================================================\n",
            "Total params: 27,883\n",
            "Trainable params: 27,883\n",
            "Non-trainable params: 0\n",
            "_________________________________________________________________\n",
            "time: 170 ms\n"
          ],
          "name": "stdout"
        }
      ]
    },
    {
      "cell_type": "code",
      "metadata": {
        "id": "BSCwYPQUQFIA",
        "outputId": "57b38ce3-e330-4e86-9dd2-c7e119793069",
        "colab": {
          "base_uri": "https://localhost:8080/",
          "height": 33
        }
      },
      "source": [
        "mc = ModelCheckpoint('best_model_1.h5', monitor='val_loss', mode='min', save_best_only= True, verbose=1)"
      ],
      "execution_count": null,
      "outputs": [
        {
          "output_type": "stream",
          "text": [
            "time: 1.3 ms\n"
          ],
          "name": "stdout"
        }
      ]
    },
    {
      "cell_type": "code",
      "metadata": {
        "id": "1zelL17MQlRZ",
        "outputId": "7fff1254-37a6-470b-9897-97add597a9e1",
        "colab": {
          "base_uri": "https://localhost:8080/",
          "height": 33
        }
      },
      "source": [
        "learning_rate_reduction = ReduceLROnPlateau(monitor='val_accuracy', \n",
        "                                            patience=5, \n",
        "                                            verbose=1, \n",
        "                                            factor=0.8, \n",
        "                                            min_lr=0.00001)"
      ],
      "execution_count": null,
      "outputs": [
        {
          "output_type": "stream",
          "text": [
            "time: 1.1 ms\n"
          ],
          "name": "stdout"
        }
      ]
    },
    {
      "cell_type": "code",
      "metadata": {
        "id": "T7Uo5eMgQUna",
        "outputId": "36d6e0bf-c515-423f-cc54-931428285703",
        "colab": {
          "base_uri": "https://localhost:8080/",
          "height": 1000
        }
      },
      "source": [
        "#train model \n",
        "epochs = 100\n",
        "batch_size = 4\n",
        "history_1 = model_1.fit(X_train, y_train, validation_data=(X_val,y_val), epochs=epochs, batch_size=batch_size, callbacks=[learning_rate_reduction, mc])\n",
        "model_1.save(\"last_model_1.h5\")"
      ],
      "execution_count": null,
      "outputs": [
        {
          "output_type": "stream",
          "text": [
            "Epoch 1/100\n",
            "WARNING:tensorflow:Model was constructed with shape (None, 1, 2) for input Tensor(\"dense_80_input:0\", shape=(None, 1, 2), dtype=float32), but it was called on an input with incompatible shape (None, 2).\n",
            "WARNING:tensorflow:Model was constructed with shape (None, 1, 2) for input Tensor(\"dense_80_input:0\", shape=(None, 1, 2), dtype=float32), but it was called on an input with incompatible shape (None, 2).\n",
            "364/375 [============================>.] - ETA: 0s - loss: 1.0966 - accuracy: 0.3043WARNING:tensorflow:Model was constructed with shape (None, 1, 2) for input Tensor(\"dense_80_input:0\", shape=(None, 1, 2), dtype=float32), but it was called on an input with incompatible shape (None, 2).\n",
            "\n",
            "Epoch 00001: val_loss improved from inf to 1.08037, saving model to best_model_1.h5\n",
            "375/375 [==============================] - 1s 3ms/step - loss: 1.0964 - accuracy: 0.3089 - val_loss: 1.0804 - val_accuracy: 0.4850\n",
            "Epoch 2/100\n",
            "367/375 [============================>.] - ETA: 0s - loss: 1.0367 - accuracy: 0.4530\n",
            "Epoch 00002: val_loss improved from 1.08037 to 0.95275, saving model to best_model_1.h5\n",
            "375/375 [==============================] - 1s 3ms/step - loss: 1.0378 - accuracy: 0.4543 - val_loss: 0.9528 - val_accuracy: 0.5210\n",
            "Epoch 3/100\n",
            "362/375 [===========================>..] - ETA: 0s - loss: 1.0159 - accuracy: 0.4945\n",
            "Epoch 00003: val_loss improved from 0.95275 to 0.93605, saving model to best_model_1.h5\n",
            "375/375 [==============================] - 1s 3ms/step - loss: 1.0172 - accuracy: 0.4937 - val_loss: 0.9360 - val_accuracy: 0.5569\n",
            "Epoch 4/100\n",
            "357/375 [===========================>..] - ETA: 0s - loss: 0.9748 - accuracy: 0.5049\n",
            "Epoch 00004: val_loss improved from 0.93605 to 0.87145, saving model to best_model_1.h5\n",
            "375/375 [==============================] - 1s 3ms/step - loss: 0.9736 - accuracy: 0.5097 - val_loss: 0.8714 - val_accuracy: 0.6168\n",
            "Epoch 5/100\n",
            "374/375 [============================>.] - ETA: 0s - loss: 0.9440 - accuracy: 0.5548\n",
            "Epoch 00005: val_loss improved from 0.87145 to 0.86177, saving model to best_model_1.h5\n",
            "375/375 [==============================] - 1s 3ms/step - loss: 0.9438 - accuracy: 0.5550 - val_loss: 0.8618 - val_accuracy: 0.6168\n",
            "Epoch 6/100\n",
            "375/375 [==============================] - ETA: 0s - loss: 0.9365 - accuracy: 0.5590\n",
            "Epoch 00006: val_loss improved from 0.86177 to 0.84583, saving model to best_model_1.h5\n",
            "375/375 [==============================] - 1s 3ms/step - loss: 0.9365 - accuracy: 0.5590 - val_loss: 0.8458 - val_accuracy: 0.6287\n",
            "Epoch 7/100\n",
            "363/375 [============================>.] - ETA: 0s - loss: 0.9206 - accuracy: 0.5820\n",
            "Epoch 00007: val_loss improved from 0.84583 to 0.84230, saving model to best_model_1.h5\n",
            "375/375 [==============================] - 1s 3ms/step - loss: 0.9196 - accuracy: 0.5831 - val_loss: 0.8423 - val_accuracy: 0.6168\n",
            "Epoch 8/100\n",
            "366/375 [============================>.] - ETA: 0s - loss: 0.9106 - accuracy: 0.5710\n",
            "Epoch 00008: val_loss did not improve from 0.84230\n",
            "375/375 [==============================] - 1s 3ms/step - loss: 0.9142 - accuracy: 0.5677 - val_loss: 0.8432 - val_accuracy: 0.6707\n",
            "Epoch 9/100\n",
            "375/375 [==============================] - ETA: 0s - loss: 0.9227 - accuracy: 0.5757\n",
            "Epoch 00009: val_loss improved from 0.84230 to 0.82893, saving model to best_model_1.h5\n",
            "375/375 [==============================] - 1s 3ms/step - loss: 0.9227 - accuracy: 0.5757 - val_loss: 0.8289 - val_accuracy: 0.6287\n",
            "Epoch 10/100\n",
            "369/375 [============================>.] - ETA: 0s - loss: 0.9006 - accuracy: 0.5976\n",
            "Epoch 00010: val_loss improved from 0.82893 to 0.81472, saving model to best_model_1.h5\n",
            "375/375 [==============================] - 1s 3ms/step - loss: 0.9009 - accuracy: 0.5951 - val_loss: 0.8147 - val_accuracy: 0.6168\n",
            "Epoch 11/100\n",
            "373/375 [============================>.] - ETA: 0s - loss: 0.8947 - accuracy: 0.5764\n",
            "Epoch 00011: val_loss did not improve from 0.81472\n",
            "375/375 [==============================] - 1s 3ms/step - loss: 0.8938 - accuracy: 0.5771 - val_loss: 0.8261 - val_accuracy: 0.6707\n",
            "Epoch 12/100\n",
            "367/375 [============================>.] - ETA: 0s - loss: 0.8895 - accuracy: 0.5940\n",
            "Epoch 00012: val_loss improved from 0.81472 to 0.80426, saving model to best_model_1.h5\n",
            "375/375 [==============================] - 1s 3ms/step - loss: 0.8896 - accuracy: 0.5924 - val_loss: 0.8043 - val_accuracy: 0.6886\n",
            "Epoch 13/100\n",
            "369/375 [============================>.] - ETA: 0s - loss: 0.8904 - accuracy: 0.5881\n",
            "Epoch 00013: val_loss did not improve from 0.80426\n",
            "375/375 [==============================] - 1s 3ms/step - loss: 0.8872 - accuracy: 0.5897 - val_loss: 0.8210 - val_accuracy: 0.6287\n",
            "Epoch 14/100\n",
            "359/375 [===========================>..] - ETA: 0s - loss: 0.8783 - accuracy: 0.6198\n",
            "Epoch 00014: val_loss did not improve from 0.80426\n",
            "375/375 [==============================] - 1s 3ms/step - loss: 0.8755 - accuracy: 0.6217 - val_loss: 0.8486 - val_accuracy: 0.6826\n",
            "Epoch 15/100\n",
            "375/375 [==============================] - ETA: 0s - loss: 0.8876 - accuracy: 0.5964\n",
            "Epoch 00015: val_loss did not improve from 0.80426\n",
            "375/375 [==============================] - 1s 3ms/step - loss: 0.8876 - accuracy: 0.5964 - val_loss: 0.8099 - val_accuracy: 0.6946\n",
            "Epoch 16/100\n",
            "363/375 [============================>.] - ETA: 0s - loss: 0.8840 - accuracy: 0.5902\n",
            "Epoch 00016: val_loss did not improve from 0.80426\n",
            "375/375 [==============================] - 1s 3ms/step - loss: 0.8823 - accuracy: 0.5904 - val_loss: 0.8078 - val_accuracy: 0.6886\n",
            "Epoch 17/100\n",
            "359/375 [===========================>..] - ETA: 0s - loss: 0.8615 - accuracy: 0.6079\n",
            "Epoch 00017: val_loss did not improve from 0.80426\n",
            "375/375 [==============================] - 1s 3ms/step - loss: 0.8636 - accuracy: 0.6051 - val_loss: 0.8130 - val_accuracy: 0.6826\n",
            "Epoch 18/100\n",
            "366/375 [============================>.] - ETA: 0s - loss: 0.8586 - accuracy: 0.6141\n",
            "Epoch 00018: val_loss did not improve from 0.80426\n",
            "375/375 [==============================] - 1s 3ms/step - loss: 0.8623 - accuracy: 0.6111 - val_loss: 0.8189 - val_accuracy: 0.6826\n",
            "Epoch 19/100\n",
            "361/375 [===========================>..] - ETA: 0s - loss: 0.8827 - accuracy: 0.5907\n",
            "Epoch 00019: val_loss did not improve from 0.80426\n",
            "375/375 [==============================] - 1s 3ms/step - loss: 0.8838 - accuracy: 0.5924 - val_loss: 0.8132 - val_accuracy: 0.6707\n",
            "Epoch 20/100\n",
            "365/375 [============================>.] - ETA: 0s - loss: 0.8583 - accuracy: 0.6021\n",
            "Epoch 00020: ReduceLROnPlateau reducing learning rate to 0.000800000037997961.\n",
            "\n",
            "Epoch 00020: val_loss improved from 0.80426 to 0.78862, saving model to best_model_1.h5\n",
            "375/375 [==============================] - 1s 3ms/step - loss: 0.8595 - accuracy: 0.6024 - val_loss: 0.7886 - val_accuracy: 0.6946\n",
            "Epoch 21/100\n",
            "360/375 [===========================>..] - ETA: 0s - loss: 0.8594 - accuracy: 0.6118\n",
            "Epoch 00021: val_loss did not improve from 0.78862\n",
            "375/375 [==============================] - 1s 3ms/step - loss: 0.8624 - accuracy: 0.6057 - val_loss: 0.8009 - val_accuracy: 0.6108\n",
            "Epoch 22/100\n",
            "357/375 [===========================>..] - ETA: 0s - loss: 0.8679 - accuracy: 0.5875\n",
            "Epoch 00022: val_loss improved from 0.78862 to 0.77511, saving model to best_model_1.h5\n",
            "375/375 [==============================] - 1s 3ms/step - loss: 0.8665 - accuracy: 0.5897 - val_loss: 0.7751 - val_accuracy: 0.6826\n",
            "Epoch 23/100\n",
            "359/375 [===========================>..] - ETA: 0s - loss: 0.8506 - accuracy: 0.6121\n",
            "Epoch 00023: val_loss did not improve from 0.77511\n",
            "375/375 [==============================] - 1s 3ms/step - loss: 0.8509 - accuracy: 0.6164 - val_loss: 0.7775 - val_accuracy: 0.6886\n",
            "Epoch 24/100\n",
            "360/375 [===========================>..] - ETA: 0s - loss: 0.8490 - accuracy: 0.6278\n",
            "Epoch 00024: val_loss improved from 0.77511 to 0.76951, saving model to best_model_1.h5\n",
            "375/375 [==============================] - 1s 3ms/step - loss: 0.8485 - accuracy: 0.6244 - val_loss: 0.7695 - val_accuracy: 0.6766\n",
            "Epoch 25/100\n",
            "357/375 [===========================>..] - ETA: 0s - loss: 0.8515 - accuracy: 0.6064\n",
            "Epoch 00025: ReduceLROnPlateau reducing learning rate to 0.0006400000303983689.\n",
            "\n",
            "Epoch 00025: val_loss did not improve from 0.76951\n",
            "375/375 [==============================] - 1s 3ms/step - loss: 0.8523 - accuracy: 0.6057 - val_loss: 0.7743 - val_accuracy: 0.6826\n",
            "Epoch 26/100\n",
            "358/375 [===========================>..] - ETA: 0s - loss: 0.8387 - accuracy: 0.6145\n",
            "Epoch 00026: val_loss did not improve from 0.76951\n",
            "375/375 [==============================] - 1s 3ms/step - loss: 0.8415 - accuracy: 0.6157 - val_loss: 0.7726 - val_accuracy: 0.6946\n",
            "Epoch 27/100\n",
            "359/375 [===========================>..] - ETA: 0s - loss: 0.8455 - accuracy: 0.6128\n",
            "Epoch 00027: val_loss did not improve from 0.76951\n",
            "375/375 [==============================] - 1s 3ms/step - loss: 0.8448 - accuracy: 0.6137 - val_loss: 0.7843 - val_accuracy: 0.6886\n",
            "Epoch 28/100\n",
            "373/375 [============================>.] - ETA: 0s - loss: 0.8557 - accuracy: 0.5965\n",
            "Epoch 00028: val_loss did not improve from 0.76951\n",
            "375/375 [==============================] - 1s 3ms/step - loss: 0.8569 - accuracy: 0.5951 - val_loss: 0.7720 - val_accuracy: 0.6826\n",
            "Epoch 29/100\n",
            "363/375 [============================>.] - ETA: 0s - loss: 0.8359 - accuracy: 0.6178\n",
            "Epoch 00029: val_loss did not improve from 0.76951\n",
            "375/375 [==============================] - 1s 3ms/step - loss: 0.8428 - accuracy: 0.6144 - val_loss: 0.7719 - val_accuracy: 0.6946\n",
            "Epoch 30/100\n",
            "357/375 [===========================>..] - ETA: 0s - loss: 0.8589 - accuracy: 0.5987\n",
            "Epoch 00030: ReduceLROnPlateau reducing learning rate to 0.0005120000336319208.\n",
            "\n",
            "Epoch 00030: val_loss did not improve from 0.76951\n",
            "375/375 [==============================] - 1s 3ms/step - loss: 0.8576 - accuracy: 0.5977 - val_loss: 0.7809 - val_accuracy: 0.6946\n",
            "Epoch 31/100\n",
            "362/375 [===========================>..] - ETA: 0s - loss: 0.8545 - accuracy: 0.6064\n",
            "Epoch 00031: val_loss did not improve from 0.76951\n",
            "375/375 [==============================] - 1s 3ms/step - loss: 0.8545 - accuracy: 0.6077 - val_loss: 0.7724 - val_accuracy: 0.7006\n",
            "Epoch 32/100\n",
            "364/375 [============================>.] - ETA: 0s - loss: 0.8289 - accuracy: 0.6305\n",
            "Epoch 00032: val_loss did not improve from 0.76951\n",
            "375/375 [==============================] - 1s 3ms/step - loss: 0.8315 - accuracy: 0.6271 - val_loss: 0.7808 - val_accuracy: 0.6647\n",
            "Epoch 33/100\n",
            "370/375 [============================>.] - ETA: 0s - loss: 0.8307 - accuracy: 0.6216\n",
            "Epoch 00033: val_loss improved from 0.76951 to 0.75180, saving model to best_model_1.h5\n",
            "375/375 [==============================] - 1s 4ms/step - loss: 0.8299 - accuracy: 0.6231 - val_loss: 0.7518 - val_accuracy: 0.6946\n",
            "Epoch 34/100\n",
            "363/375 [============================>.] - ETA: 0s - loss: 0.8384 - accuracy: 0.6185\n",
            "Epoch 00034: val_loss did not improve from 0.75180\n",
            "375/375 [==============================] - 1s 3ms/step - loss: 0.8381 - accuracy: 0.6197 - val_loss: 0.7803 - val_accuracy: 0.6886\n",
            "Epoch 35/100\n",
            "364/375 [============================>.] - ETA: 0s - loss: 0.8191 - accuracy: 0.6229\n",
            "Epoch 00035: val_loss did not improve from 0.75180\n",
            "375/375 [==============================] - 1s 3ms/step - loss: 0.8217 - accuracy: 0.6204 - val_loss: 0.7635 - val_accuracy: 0.6886\n",
            "Epoch 36/100\n",
            "363/375 [============================>.] - ETA: 0s - loss: 0.8375 - accuracy: 0.6178\n",
            "Epoch 00036: ReduceLROnPlateau reducing learning rate to 0.00040960004553198815.\n",
            "\n",
            "Epoch 00036: val_loss did not improve from 0.75180\n",
            "375/375 [==============================] - 1s 3ms/step - loss: 0.8361 - accuracy: 0.6177 - val_loss: 0.7786 - val_accuracy: 0.6826\n",
            "Epoch 37/100\n",
            "359/375 [===========================>..] - ETA: 0s - loss: 0.8479 - accuracy: 0.6142\n",
            "Epoch 00037: val_loss did not improve from 0.75180\n",
            "375/375 [==============================] - 1s 3ms/step - loss: 0.8431 - accuracy: 0.6177 - val_loss: 0.7820 - val_accuracy: 0.6826\n",
            "Epoch 38/100\n",
            "364/375 [============================>.] - ETA: 0s - loss: 0.8357 - accuracy: 0.6216\n",
            "Epoch 00038: val_loss did not improve from 0.75180\n",
            "375/375 [==============================] - 1s 3ms/step - loss: 0.8334 - accuracy: 0.6231 - val_loss: 0.7630 - val_accuracy: 0.6946\n",
            "Epoch 39/100\n",
            "361/375 [===========================>..] - ETA: 0s - loss: 0.8191 - accuracy: 0.6440\n",
            "Epoch 00039: val_loss did not improve from 0.75180\n",
            "375/375 [==============================] - 1s 3ms/step - loss: 0.8205 - accuracy: 0.6438 - val_loss: 0.7939 - val_accuracy: 0.6946\n",
            "Epoch 40/100\n",
            "366/375 [============================>.] - ETA: 0s - loss: 0.8378 - accuracy: 0.6202\n",
            "Epoch 00040: val_loss did not improve from 0.75180\n",
            "375/375 [==============================] - 1s 3ms/step - loss: 0.8370 - accuracy: 0.6224 - val_loss: 0.7669 - val_accuracy: 0.6946\n",
            "Epoch 41/100\n",
            "361/375 [===========================>..] - ETA: 0s - loss: 0.8081 - accuracy: 0.6281\n",
            "Epoch 00041: ReduceLROnPlateau reducing learning rate to 0.00032768002711236477.\n",
            "\n",
            "Epoch 00041: val_loss did not improve from 0.75180\n",
            "375/375 [==============================] - 1s 3ms/step - loss: 0.8077 - accuracy: 0.6284 - val_loss: 0.7870 - val_accuracy: 0.6707\n",
            "Epoch 42/100\n",
            "367/375 [============================>.] - ETA: 0s - loss: 0.8184 - accuracy: 0.6240\n",
            "Epoch 00042: val_loss did not improve from 0.75180\n",
            "375/375 [==============================] - 1s 3ms/step - loss: 0.8208 - accuracy: 0.6244 - val_loss: 0.7645 - val_accuracy: 0.6826\n",
            "Epoch 43/100\n",
            "365/375 [============================>.] - ETA: 0s - loss: 0.8061 - accuracy: 0.6445\n",
            "Epoch 00043: val_loss did not improve from 0.75180\n",
            "375/375 [==============================] - 1s 3ms/step - loss: 0.8080 - accuracy: 0.6438 - val_loss: 0.7685 - val_accuracy: 0.6886\n",
            "Epoch 44/100\n",
            "359/375 [===========================>..] - ETA: 0s - loss: 0.8127 - accuracy: 0.6281\n",
            "Epoch 00044: val_loss did not improve from 0.75180\n",
            "375/375 [==============================] - 1s 3ms/step - loss: 0.8175 - accuracy: 0.6278 - val_loss: 0.7703 - val_accuracy: 0.6886\n",
            "Epoch 45/100\n",
            "361/375 [===========================>..] - ETA: 0s - loss: 0.8355 - accuracy: 0.6323\n",
            "Epoch 00045: val_loss did not improve from 0.75180\n",
            "375/375 [==============================] - 1s 3ms/step - loss: 0.8346 - accuracy: 0.6311 - val_loss: 0.7798 - val_accuracy: 0.6886\n",
            "Epoch 46/100\n",
            "357/375 [===========================>..] - ETA: 0s - loss: 0.8013 - accuracy: 0.6380\n",
            "Epoch 00046: ReduceLROnPlateau reducing learning rate to 0.0002621440216898918.\n",
            "\n",
            "Epoch 00046: val_loss did not improve from 0.75180\n",
            "375/375 [==============================] - 1s 3ms/step - loss: 0.8031 - accuracy: 0.6338 - val_loss: 0.7711 - val_accuracy: 0.6886\n",
            "Epoch 47/100\n",
            "364/375 [============================>.] - ETA: 0s - loss: 0.8295 - accuracy: 0.6065\n",
            "Epoch 00047: val_loss did not improve from 0.75180\n",
            "375/375 [==============================] - 1s 3ms/step - loss: 0.8274 - accuracy: 0.6111 - val_loss: 0.7742 - val_accuracy: 0.6886\n",
            "Epoch 48/100\n",
            "360/375 [===========================>..] - ETA: 0s - loss: 0.8123 - accuracy: 0.6410\n",
            "Epoch 00048: val_loss did not improve from 0.75180\n",
            "375/375 [==============================] - 1s 3ms/step - loss: 0.8117 - accuracy: 0.6404 - val_loss: 0.7707 - val_accuracy: 0.6886\n",
            "Epoch 49/100\n",
            "375/375 [==============================] - ETA: 0s - loss: 0.8101 - accuracy: 0.6478\n",
            "Epoch 00049: val_loss did not improve from 0.75180\n",
            "375/375 [==============================] - 1s 3ms/step - loss: 0.8101 - accuracy: 0.6478 - val_loss: 0.7679 - val_accuracy: 0.6946\n",
            "Epoch 50/100\n",
            "371/375 [============================>.] - ETA: 0s - loss: 0.8086 - accuracy: 0.6462\n",
            "Epoch 00050: val_loss did not improve from 0.75180\n",
            "375/375 [==============================] - 1s 3ms/step - loss: 0.8091 - accuracy: 0.6451 - val_loss: 0.7688 - val_accuracy: 0.6886\n",
            "Epoch 51/100\n",
            "374/375 [============================>.] - ETA: 0s - loss: 0.7964 - accuracy: 0.6504\n",
            "Epoch 00051: ReduceLROnPlateau reducing learning rate to 0.00020971521735191345.\n",
            "\n",
            "Epoch 00051: val_loss did not improve from 0.75180\n",
            "375/375 [==============================] - 1s 3ms/step - loss: 0.7960 - accuracy: 0.6511 - val_loss: 0.7668 - val_accuracy: 0.6886\n",
            "Epoch 52/100\n",
            "363/375 [============================>.] - ETA: 0s - loss: 0.7996 - accuracy: 0.6384\n",
            "Epoch 00052: val_loss did not improve from 0.75180\n",
            "375/375 [==============================] - 1s 3ms/step - loss: 0.7969 - accuracy: 0.6418 - val_loss: 0.7670 - val_accuracy: 0.6886\n",
            "Epoch 53/100\n",
            "364/375 [============================>.] - ETA: 0s - loss: 0.8056 - accuracy: 0.6429\n",
            "Epoch 00053: val_loss did not improve from 0.75180\n",
            "375/375 [==============================] - 1s 3ms/step - loss: 0.8048 - accuracy: 0.6431 - val_loss: 0.7698 - val_accuracy: 0.6886\n",
            "Epoch 54/100\n",
            "361/375 [===========================>..] - ETA: 0s - loss: 0.7884 - accuracy: 0.6496\n",
            "Epoch 00054: val_loss did not improve from 0.75180\n",
            "375/375 [==============================] - 1s 3ms/step - loss: 0.7924 - accuracy: 0.6484 - val_loss: 0.7647 - val_accuracy: 0.7066\n",
            "Epoch 55/100\n",
            "357/375 [===========================>..] - ETA: 0s - loss: 0.7975 - accuracy: 0.6590\n",
            "Epoch 00055: val_loss did not improve from 0.75180\n",
            "375/375 [==============================] - 1s 3ms/step - loss: 0.7976 - accuracy: 0.6558 - val_loss: 0.7613 - val_accuracy: 0.7246\n",
            "Epoch 56/100\n",
            "360/375 [===========================>..] - ETA: 0s - loss: 0.7924 - accuracy: 0.6708\n",
            "Epoch 00056: val_loss did not improve from 0.75180\n",
            "375/375 [==============================] - 1s 3ms/step - loss: 0.7922 - accuracy: 0.6711 - val_loss: 0.7560 - val_accuracy: 0.7066\n",
            "Epoch 57/100\n",
            "361/375 [===========================>..] - ETA: 0s - loss: 0.7887 - accuracy: 0.6711\n",
            "Epoch 00057: val_loss did not improve from 0.75180\n",
            "375/375 [==============================] - 1s 3ms/step - loss: 0.7868 - accuracy: 0.6711 - val_loss: 0.7613 - val_accuracy: 0.7126\n",
            "Epoch 58/100\n",
            "359/375 [===========================>..] - ETA: 0s - loss: 0.7903 - accuracy: 0.6616\n",
            "Epoch 00058: val_loss improved from 0.75180 to 0.74967, saving model to best_model_1.h5\n",
            "375/375 [==============================] - 1s 4ms/step - loss: 0.7880 - accuracy: 0.6624 - val_loss: 0.7497 - val_accuracy: 0.7246\n",
            "Epoch 59/100\n",
            "362/375 [===========================>..] - ETA: 0s - loss: 0.7812 - accuracy: 0.6692\n",
            "Epoch 00059: val_loss did not improve from 0.74967\n",
            "375/375 [==============================] - 1s 3ms/step - loss: 0.7824 - accuracy: 0.6704 - val_loss: 0.7637 - val_accuracy: 0.7246\n",
            "Epoch 60/100\n",
            "366/375 [============================>.] - ETA: 0s - loss: 0.8004 - accuracy: 0.6592\n",
            "Epoch 00060: ReduceLROnPlateau reducing learning rate to 0.00016777217388153076.\n",
            "\n",
            "Epoch 00060: val_loss did not improve from 0.74967\n",
            "375/375 [==============================] - 1s 3ms/step - loss: 0.7993 - accuracy: 0.6618 - val_loss: 0.7523 - val_accuracy: 0.7246\n",
            "Epoch 61/100\n",
            "363/375 [============================>.] - ETA: 0s - loss: 0.7623 - accuracy: 0.6722\n",
            "Epoch 00061: val_loss did not improve from 0.74967\n",
            "375/375 [==============================] - 1s 3ms/step - loss: 0.7625 - accuracy: 0.6751 - val_loss: 0.7514 - val_accuracy: 0.7246\n",
            "Epoch 62/100\n",
            "357/375 [===========================>..] - ETA: 0s - loss: 0.7824 - accuracy: 0.6730\n",
            "Epoch 00062: val_loss did not improve from 0.74967\n",
            "375/375 [==============================] - 1s 3ms/step - loss: 0.7835 - accuracy: 0.6724 - val_loss: 0.7565 - val_accuracy: 0.7246\n",
            "Epoch 63/100\n",
            "359/375 [===========================>..] - ETA: 0s - loss: 0.7746 - accuracy: 0.6643\n",
            "Epoch 00063: val_loss did not improve from 0.74967\n",
            "375/375 [==============================] - 1s 3ms/step - loss: 0.7737 - accuracy: 0.6651 - val_loss: 0.7658 - val_accuracy: 0.7186\n",
            "Epoch 64/100\n",
            "373/375 [============================>.] - ETA: 0s - loss: 0.7678 - accuracy: 0.6729\n",
            "Epoch 00064: val_loss did not improve from 0.74967\n",
            "375/375 [==============================] - 1s 3ms/step - loss: 0.7687 - accuracy: 0.6724 - val_loss: 0.7595 - val_accuracy: 0.7246\n",
            "Epoch 65/100\n",
            "363/375 [============================>.] - ETA: 0s - loss: 0.7669 - accuracy: 0.6798\n",
            "Epoch 00065: ReduceLROnPlateau reducing learning rate to 0.00013421773910522462.\n",
            "\n",
            "Epoch 00065: val_loss did not improve from 0.74967\n",
            "375/375 [==============================] - 1s 3ms/step - loss: 0.7667 - accuracy: 0.6785 - val_loss: 0.7571 - val_accuracy: 0.7186\n",
            "Epoch 66/100\n",
            "366/375 [============================>.] - ETA: 0s - loss: 0.7680 - accuracy: 0.6680\n",
            "Epoch 00066: val_loss did not improve from 0.74967\n",
            "375/375 [==============================] - 1s 3ms/step - loss: 0.7675 - accuracy: 0.6684 - val_loss: 0.7553 - val_accuracy: 0.7246\n",
            "Epoch 67/100\n",
            "361/375 [===========================>..] - ETA: 0s - loss: 0.7783 - accuracy: 0.6794\n",
            "Epoch 00067: val_loss did not improve from 0.74967\n",
            "375/375 [==============================] - 1s 3ms/step - loss: 0.7796 - accuracy: 0.6798 - val_loss: 0.7687 - val_accuracy: 0.7246\n",
            "Epoch 68/100\n",
            "357/375 [===========================>..] - ETA: 0s - loss: 0.7733 - accuracy: 0.6702\n",
            "Epoch 00068: val_loss did not improve from 0.74967\n",
            "375/375 [==============================] - 1s 3ms/step - loss: 0.7737 - accuracy: 0.6738 - val_loss: 0.7724 - val_accuracy: 0.7246\n",
            "Epoch 69/100\n",
            "361/375 [===========================>..] - ETA: 0s - loss: 0.7619 - accuracy: 0.6752\n",
            "Epoch 00069: val_loss did not improve from 0.74967\n",
            "375/375 [==============================] - 1s 3ms/step - loss: 0.7604 - accuracy: 0.6765 - val_loss: 0.7597 - val_accuracy: 0.7246\n",
            "Epoch 70/100\n",
            "358/375 [===========================>..] - ETA: 0s - loss: 0.7709 - accuracy: 0.6830\n",
            "Epoch 00070: ReduceLROnPlateau reducing learning rate to 0.00010737419361248613.\n",
            "\n",
            "Epoch 00070: val_loss did not improve from 0.74967\n",
            "375/375 [==============================] - 1s 3ms/step - loss: 0.7739 - accuracy: 0.6771 - val_loss: 0.7750 - val_accuracy: 0.7246\n",
            "Epoch 71/100\n",
            "375/375 [==============================] - ETA: 0s - loss: 0.7650 - accuracy: 0.6805\n",
            "Epoch 00071: val_loss did not improve from 0.74967\n",
            "375/375 [==============================] - 1s 3ms/step - loss: 0.7650 - accuracy: 0.6805 - val_loss: 0.7754 - val_accuracy: 0.7246\n",
            "Epoch 72/100\n",
            "361/375 [===========================>..] - ETA: 0s - loss: 0.7646 - accuracy: 0.6745\n",
            "Epoch 00072: val_loss did not improve from 0.74967\n",
            "375/375 [==============================] - 1s 3ms/step - loss: 0.7635 - accuracy: 0.6751 - val_loss: 0.7739 - val_accuracy: 0.7246\n",
            "Epoch 73/100\n",
            "360/375 [===========================>..] - ETA: 0s - loss: 0.7650 - accuracy: 0.6840\n",
            "Epoch 00073: val_loss did not improve from 0.74967\n",
            "375/375 [==============================] - 1s 3ms/step - loss: 0.7603 - accuracy: 0.6851 - val_loss: 0.7814 - val_accuracy: 0.7246\n",
            "Epoch 74/100\n",
            "364/375 [============================>.] - ETA: 0s - loss: 0.7732 - accuracy: 0.6772\n",
            "Epoch 00074: val_loss did not improve from 0.74967\n",
            "375/375 [==============================] - 1s 3ms/step - loss: 0.7717 - accuracy: 0.6771 - val_loss: 0.7637 - val_accuracy: 0.7126\n",
            "Epoch 75/100\n",
            "369/375 [============================>.] - ETA: 0s - loss: 0.7608 - accuracy: 0.6911\n",
            "Epoch 00075: ReduceLROnPlateau reducing learning rate to 8.589935605414213e-05.\n",
            "\n",
            "Epoch 00075: val_loss did not improve from 0.74967\n",
            "375/375 [==============================] - 1s 3ms/step - loss: 0.7625 - accuracy: 0.6891 - val_loss: 0.7781 - val_accuracy: 0.7186\n",
            "Epoch 76/100\n",
            "359/375 [===========================>..] - ETA: 0s - loss: 0.7574 - accuracy: 0.6769\n",
            "Epoch 00076: val_loss did not improve from 0.74967\n",
            "375/375 [==============================] - 1s 3ms/step - loss: 0.7545 - accuracy: 0.6778 - val_loss: 0.7721 - val_accuracy: 0.7305\n",
            "Epoch 77/100\n",
            "362/375 [===========================>..] - ETA: 0s - loss: 0.7536 - accuracy: 0.6809\n",
            "Epoch 00077: val_loss did not improve from 0.74967\n",
            "375/375 [==============================] - 1s 3ms/step - loss: 0.7505 - accuracy: 0.6838 - val_loss: 0.7740 - val_accuracy: 0.7246\n",
            "Epoch 78/100\n",
            "362/375 [===========================>..] - ETA: 0s - loss: 0.7588 - accuracy: 0.6802\n",
            "Epoch 00078: val_loss did not improve from 0.74967\n",
            "375/375 [==============================] - 1s 3ms/step - loss: 0.7573 - accuracy: 0.6785 - val_loss: 0.7752 - val_accuracy: 0.7305\n",
            "Epoch 79/100\n",
            "363/375 [============================>.] - ETA: 0s - loss: 0.7606 - accuracy: 0.6853\n",
            "Epoch 00079: val_loss did not improve from 0.74967\n",
            "375/375 [==============================] - 1s 3ms/step - loss: 0.7589 - accuracy: 0.6851 - val_loss: 0.7767 - val_accuracy: 0.7305\n",
            "Epoch 80/100\n",
            "367/375 [============================>.] - ETA: 0s - loss: 0.7439 - accuracy: 0.6880\n",
            "Epoch 00080: val_loss did not improve from 0.74967\n",
            "375/375 [==============================] - 1s 3ms/step - loss: 0.7458 - accuracy: 0.6891 - val_loss: 0.7750 - val_accuracy: 0.7246\n",
            "Epoch 81/100\n",
            "368/375 [============================>.] - ETA: 0s - loss: 0.7637 - accuracy: 0.6841\n",
            "Epoch 00081: ReduceLROnPlateau reducing learning rate to 6.871948717162013e-05.\n",
            "\n",
            "Epoch 00081: val_loss did not improve from 0.74967\n",
            "375/375 [==============================] - 1s 3ms/step - loss: 0.7638 - accuracy: 0.6818 - val_loss: 0.7752 - val_accuracy: 0.7305\n",
            "Epoch 82/100\n",
            "371/375 [============================>.] - ETA: 0s - loss: 0.7657 - accuracy: 0.6698\n",
            "Epoch 00082: val_loss did not improve from 0.74967\n",
            "375/375 [==============================] - 1s 3ms/step - loss: 0.7668 - accuracy: 0.6691 - val_loss: 0.7727 - val_accuracy: 0.7365\n",
            "Epoch 83/100\n",
            "357/375 [===========================>..] - ETA: 0s - loss: 0.7634 - accuracy: 0.6828\n",
            "Epoch 00083: val_loss did not improve from 0.74967\n",
            "375/375 [==============================] - 1s 3ms/step - loss: 0.7610 - accuracy: 0.6851 - val_loss: 0.7706 - val_accuracy: 0.7365\n",
            "Epoch 84/100\n",
            "357/375 [===========================>..] - ETA: 0s - loss: 0.7359 - accuracy: 0.6968\n",
            "Epoch 00084: val_loss did not improve from 0.74967\n",
            "375/375 [==============================] - 1s 3ms/step - loss: 0.7332 - accuracy: 0.6971 - val_loss: 0.7688 - val_accuracy: 0.7305\n",
            "Epoch 85/100\n",
            "370/375 [============================>.] - ETA: 0s - loss: 0.7600 - accuracy: 0.6899\n",
            "Epoch 00085: val_loss did not improve from 0.74967\n",
            "375/375 [==============================] - 1s 3ms/step - loss: 0.7583 - accuracy: 0.6905 - val_loss: 0.7733 - val_accuracy: 0.7305\n",
            "Epoch 86/100\n",
            "373/375 [============================>.] - ETA: 0s - loss: 0.7379 - accuracy: 0.6930\n",
            "Epoch 00086: val_loss did not improve from 0.74967\n",
            "375/375 [==============================] - 1s 3ms/step - loss: 0.7364 - accuracy: 0.6931 - val_loss: 0.7795 - val_accuracy: 0.7365\n",
            "Epoch 87/100\n",
            "373/375 [============================>.] - ETA: 0s - loss: 0.7408 - accuracy: 0.6903\n",
            "Epoch 00087: ReduceLROnPlateau reducing learning rate to 5.497558740898967e-05.\n",
            "\n",
            "Epoch 00087: val_loss did not improve from 0.74967\n",
            "375/375 [==============================] - 1s 3ms/step - loss: 0.7415 - accuracy: 0.6891 - val_loss: 0.7747 - val_accuracy: 0.7305\n",
            "Epoch 88/100\n",
            "359/375 [===========================>..] - ETA: 0s - loss: 0.7433 - accuracy: 0.6894\n",
            "Epoch 00088: val_loss did not improve from 0.74967\n",
            "375/375 [==============================] - 1s 3ms/step - loss: 0.7400 - accuracy: 0.6918 - val_loss: 0.7719 - val_accuracy: 0.7305\n",
            "Epoch 89/100\n",
            "356/375 [===========================>..] - ETA: 0s - loss: 0.7627 - accuracy: 0.6868\n",
            "Epoch 00089: val_loss did not improve from 0.74967\n",
            "375/375 [==============================] - 1s 3ms/step - loss: 0.7580 - accuracy: 0.6878 - val_loss: 0.7763 - val_accuracy: 0.7305\n",
            "Epoch 90/100\n",
            "363/375 [============================>.] - ETA: 0s - loss: 0.7464 - accuracy: 0.6935\n",
            "Epoch 00090: val_loss did not improve from 0.74967\n",
            "375/375 [==============================] - 1s 3ms/step - loss: 0.7442 - accuracy: 0.6945 - val_loss: 0.7750 - val_accuracy: 0.7305\n",
            "Epoch 91/100\n",
            "370/375 [============================>.] - ETA: 0s - loss: 0.7614 - accuracy: 0.6838\n",
            "Epoch 00091: val_loss did not improve from 0.74967\n",
            "375/375 [==============================] - 1s 3ms/step - loss: 0.7638 - accuracy: 0.6811 - val_loss: 0.7763 - val_accuracy: 0.7305\n",
            "Epoch 92/100\n",
            "363/375 [============================>.] - ETA: 0s - loss: 0.7275 - accuracy: 0.7004\n",
            "Epoch 00092: ReduceLROnPlateau reducing learning rate to 4.398046876303852e-05.\n",
            "\n",
            "Epoch 00092: val_loss did not improve from 0.74967\n",
            "375/375 [==============================] - 1s 3ms/step - loss: 0.7300 - accuracy: 0.6971 - val_loss: 0.7772 - val_accuracy: 0.7305\n",
            "Epoch 93/100\n",
            "361/375 [===========================>..] - ETA: 0s - loss: 0.7464 - accuracy: 0.6891\n",
            "Epoch 00093: val_loss did not improve from 0.74967\n",
            "375/375 [==============================] - 1s 3ms/step - loss: 0.7450 - accuracy: 0.6911 - val_loss: 0.7744 - val_accuracy: 0.7305\n",
            "Epoch 94/100\n",
            "363/375 [============================>.] - ETA: 0s - loss: 0.7443 - accuracy: 0.6880\n",
            "Epoch 00094: val_loss did not improve from 0.74967\n",
            "375/375 [==============================] - 1s 3ms/step - loss: 0.7450 - accuracy: 0.6858 - val_loss: 0.7774 - val_accuracy: 0.7365\n",
            "Epoch 95/100\n",
            "363/375 [============================>.] - ETA: 0s - loss: 0.7556 - accuracy: 0.6825\n",
            "Epoch 00095: val_loss did not improve from 0.74967\n",
            "375/375 [==============================] - 1s 3ms/step - loss: 0.7524 - accuracy: 0.6851 - val_loss: 0.7766 - val_accuracy: 0.7305\n",
            "Epoch 96/100\n",
            "362/375 [===========================>..] - ETA: 0s - loss: 0.7484 - accuracy: 0.6844\n",
            "Epoch 00096: val_loss did not improve from 0.74967\n",
            "375/375 [==============================] - 1s 3ms/step - loss: 0.7499 - accuracy: 0.6818 - val_loss: 0.7785 - val_accuracy: 0.7365\n",
            "Epoch 97/100\n",
            "356/375 [===========================>..] - ETA: 0s - loss: 0.7593 - accuracy: 0.6882\n",
            "Epoch 00097: ReduceLROnPlateau reducing learning rate to 3.518437442835421e-05.\n",
            "\n",
            "Epoch 00097: val_loss did not improve from 0.74967\n",
            "375/375 [==============================] - 1s 3ms/step - loss: 0.7594 - accuracy: 0.6891 - val_loss: 0.7827 - val_accuracy: 0.7305\n",
            "Epoch 98/100\n",
            "367/375 [============================>.] - ETA: 0s - loss: 0.7550 - accuracy: 0.6901\n",
            "Epoch 00098: val_loss did not improve from 0.74967\n",
            "375/375 [==============================] - 1s 3ms/step - loss: 0.7530 - accuracy: 0.6898 - val_loss: 0.7828 - val_accuracy: 0.7305\n",
            "Epoch 99/100\n",
            "375/375 [==============================] - ETA: 0s - loss: 0.7522 - accuracy: 0.6858\n",
            "Epoch 00099: val_loss did not improve from 0.74967\n",
            "375/375 [==============================] - 1s 3ms/step - loss: 0.7522 - accuracy: 0.6858 - val_loss: 0.7796 - val_accuracy: 0.7365\n",
            "Epoch 100/100\n",
            "364/375 [============================>.] - ETA: 0s - loss: 0.7470 - accuracy: 0.6978\n",
            "Epoch 00100: val_loss did not improve from 0.74967\n",
            "375/375 [==============================] - 1s 3ms/step - loss: 0.7522 - accuracy: 0.6971 - val_loss: 0.7827 - val_accuracy: 0.7305\n",
            "time: 1min 54s\n"
          ],
          "name": "stdout"
        }
      ]
    },
    {
      "cell_type": "code",
      "metadata": {
        "id": "C8yNnqHJRY_w",
        "outputId": "76cbca93-8c4e-47b7-ad18-9b83af8df498",
        "colab": {
          "base_uri": "https://localhost:8080/",
          "height": 312
        }
      },
      "source": [
        "plt.plot(history_1.history['accuracy'])\n",
        "plt.plot(history_1.history['val_accuracy'])\n",
        "plt.title('model_1 accuracy')\n",
        "plt.ylabel('accuracy')\n",
        "plt.xlabel('epoch')\n",
        "plt.legend(['train', 'val'], loc='upper left')\n",
        "plt.show()"
      ],
      "execution_count": null,
      "outputs": [
        {
          "output_type": "display_data",
          "data": {
            "image/png": "[encoded data removed]",
            "text/plain": [
              "<Figure size 432x288 with 1 Axes>"
            ]
          },
          "metadata": {
            "tags": [],
            "needs_background": "light"
          }
        },
        {
          "output_type": "stream",
          "text": [
            "time: 138 ms\n"
          ],
          "name": "stdout"
        }
      ]
    },
    {
      "cell_type": "code",
      "metadata": {
        "id": "6ATortb2Rfsp",
        "outputId": "61fe1171-c640-4e52-8352-9a091f5d9fe3",
        "colab": {
          "base_uri": "https://localhost:8080/",
          "height": 84
        }
      },
      "source": [
        "# model_1.load_weights('last_model_1.h5')\n",
        "model_1.load_weights('best_model_1.h5')\n",
        "\n",
        "score, acc = model_1.evaluate(X_test, y_test,\n",
        "                            batch_size=batch_size)\n",
        "print('Test score:', score)\n",
        "print('Test accuracy:', acc)"
      ],
      "execution_count": null,
      "outputs": [
        {
          "output_type": "stream",
          "text": [
            "105/105 [==============================] - 0s 2ms/step - loss: 0.7283 - accuracy: 0.7050\n",
            "Test score: 0.7282881736755371\n",
            "Test accuracy: 0.7050359845161438\n",
            "time: 744 ms\n"
          ],
          "name": "stdout"
        }
      ]
    },
    {
      "cell_type": "code",
      "metadata": {
        "id": "c1It5V7NT2xO"
      },
      "source": [
        ""
      ],
      "execution_count": null,
      "outputs": []
    }
  ]
}